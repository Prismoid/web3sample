{
 "cells": [
  {
   "cell_type": "code",
   "execution_count": 15,
   "id": "923bdf37",
   "metadata": {},
   "outputs": [],
   "source": [
    "# パッケージをインストールしていない場合\n",
    "# !pip install eth_account\n",
    "# !pip install web3"
   ]
  },
  {
   "cell_type": "code",
   "execution_count": 6,
   "id": "2e69500a",
   "metadata": {},
   "outputs": [
    {
     "name": "stdout",
     "output_type": "stream",
     "text": [
      "秘密鍵:  0x253ea13322cb87d3a73f1e322f33bda37a50b527bed83ed2c57f980d89283712\n",
      "アドレス:  0x81Be65E0977041aF1913c791a70AEAAF06E50F70\n",
      "トランザクションハッシュ:  0x89e9d99729e0bdf55bcf02d388abc89fe38e7b4ef6cd7d0887b36acec8d143ed\n",
      "実装されたコントラクトアドレス:  0x69774b66b3Fb93ECA9dDBeE92b14C721C17B4794\n"
     ]
    }
   ],
   "source": [
    "from eth_account import Account # Ethereumのアカウントを管理するライブラリ\n",
    "from web3 import Web3, HTTPProvider # Web3.pyライブラリ\n",
    "import secrets\n",
    "import json\n",
    "web3 = Web3(HTTPProvider(\"http://153.122.10.129:8545\")) # web3のオブジェクト\n",
    "private_key = \"0x\" + secrets.token_hex(32) # 秘密鍵の生成\n",
    "address = Account.privateKeyToAccount(private_key).address # アドレス\n",
    "bytecode = json.load(open(\"bytecode.json\", 'r'))['object'] # バイトコード\n",
    "MyToken = web3.eth.contract(abi=[], bytecode=bytecode) \n",
    "# コントラクト実装用のトランザクションの作成\n",
    "construct_tx = MyToken.constructor().buildTransaction({\n",
    "        'from': address, # 送信元アドレス\n",
    "        'nonce': web3.eth.getTransactionCount(address), # ナンス\n",
    "        'gas': 2000000, # 使用するGASの上限\n",
    "        'gasPrice': web3.toWei('0', 'gwei'), # 1GASの価格を設定(0に設定、手数料無しでトランザクション送信可能)\n",
    "        'chainId': 12345, # ブロックチェーンのIDを指定\n",
    "    }\n",
    ")\n",
    "# 秘密鍵でトランザクションを署名\n",
    "signed_tx = Account.signTransaction(construct_tx, private_key)\n",
    "# トランザクションの送信\n",
    "tx_hash = web3.eth.sendRawTransaction(signed_tx.rawTransaction)\n",
    "# ブロックチェーン上で実装されるまで待つ\n",
    "tx_receipt = web3.eth.waitForTransactionReceipt(tx_hash)\n",
    "\n",
    "# 各種変数の説明\n",
    "print(\"秘密鍵: \", private_key)\n",
    "print(\"アドレス: \", address)\n",
    "print(\"トランザクションハッシュ: \", tx_hash.hex())\n",
    "print(\"実装されたコントラクトアドレス: \", tx_receipt['contractAddress'])\n",
    "json.dump({\"contractAddress\": tx_receipt['contractAddress']}, open(\"./contractAddress.json\", \"w\"))"
   ]
  },
  {
   "cell_type": "code",
   "execution_count": null,
   "id": "06785cb7",
   "metadata": {},
   "outputs": [],
   "source": []
  }
 ],
 "metadata": {
  "kernelspec": {
   "display_name": "Python 3 (ipykernel)",
   "language": "python",
   "name": "python3"
  },
  "language_info": {
   "codemirror_mode": {
    "name": "ipython",
    "version": 3
   },
   "file_extension": ".py",
   "mimetype": "text/x-python",
   "name": "python",
   "nbconvert_exporter": "python",
   "pygments_lexer": "ipython3",
   "version": "3.9.15"
  }
 },
 "nbformat": 4,
 "nbformat_minor": 5
}
